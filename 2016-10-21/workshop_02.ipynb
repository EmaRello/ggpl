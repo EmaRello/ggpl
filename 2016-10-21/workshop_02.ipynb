{
 "cells": [
  {
   "cell_type": "markdown",
   "metadata": {},
   "source": [
    "<img src=\"files/casa.jpg\">"
   ]
  },
  {
   "cell_type": "markdown",
   "metadata": {},
   "source": [
    "WORKSHOP_02: riproduzione di una struttura rinforzata\n",
    "http://www.secrets-of-shed-building.com/images/xshed-roof-construction1.jpg.pagespeed.ic.j_pWZsEVfw.jpg"
   ]
  },
  {
   "cell_type": "markdown",
   "metadata": {},
   "source": [
    "Importo le librerie necessarie"
   ]
  },
  {
   "cell_type": "code",
   "execution_count": 45,
   "metadata": {
    "collapsed": false
   },
   "outputs": [],
   "source": [
    "from pyplasm import *\n",
    "from numpy import *\n",
    "from math import *"
   ]
  },
  {
   "cell_type": "markdown",
   "metadata": {},
   "source": [
    "Riscrivo la funzione relativa al workshop_01 (telaio \"piano\") e la testo"
   ]
  },
  {
   "cell_type": "code",
   "execution_count": 46,
   "metadata": {
    "collapsed": false
   },
   "outputs": [
    {
     "data": {
      "text/plain": [
       "<pyplasm.xgepy.Hpc; proxy of <Swig Object of type 'std::shared_ptr< Hpc > *' at 0x000000000764CAB0> >"
      ]
     },
     "execution_count": 46,
     "metadata": {},
     "output_type": "execute_result"
    }
   ],
   "source": [
    "def flatStructure(xBeam,zBeam,xPillar,yPillar,beamPriority,distancesPillars,distancesBeams):\n",
    "\t\n",
    "\tdp = [yPillar]\n",
    "\tfor val in distancesPillars:\n",
    "\t\tdp.append(-val+yPillar)\n",
    "\t\tdp.append(yPillar)\n",
    "\n",
    "\tdb = []\n",
    "\tfor val in distancesBeams:\n",
    "\t\tdb.append(-val+zBeam)\n",
    "\t\tdb.append(zBeam)\n",
    "\n",
    "\tdpn = []\n",
    "\tdbn = []\n",
    "\n",
    "\tdpsum = 0\n",
    "\tfor val in dp:\n",
    "    \t\tdpsum += abs(val)\n",
    "\t\tdpn.append(-val)\n",
    "\n",
    "\tdbsum = 0\n",
    "\tfor val in db:\n",
    "    \t\tdbsum += abs(val)\n",
    "\t\tdbn.append(-val)\n",
    "\n",
    "\tarrayA = []\n",
    "\tarrayB = []\n",
    "\n",
    "\tif beamPriority:\n",
    "\t\tarrayA = dbn\n",
    "\t\tarrayB.append(dpsum) \n",
    "\telse:\n",
    "\t\tarrayA.append(dbsum)\n",
    "\t\tarrayB= dpn\n",
    "\n",
    "\ty = QUOTE(dp)\n",
    "\tya = QUOTE(arrayA)\n",
    "\ta = PROD([y,ya])\n",
    "\t\n",
    "\tzb = QUOTE(db)\n",
    "\tz= QUOTE(arrayB)\n",
    "\tb = PROD([z,zb])\n",
    "\n",
    "\txa = QUOTE([xPillar])\n",
    "\n",
    "\txb = QUOTE([xBeam])\n",
    "\n",
    "\treturn STRUCT([T(1)(-xPillar/2),PROD([xa,a]),T(1)(-(xBeam-xPillar)/2),PROD([xb,b])])\n",
    "\n",
    "VIEW(flatStructure(0.8,0.2,0.3,0.3,1,[1,2,3],[1,2,3]))"
   ]
  },
  {
   "cell_type": "markdown",
   "metadata": {},
   "source": [
    "Definisco una funzione che prende come parametro il nome di un file ed assembla una struttura (e la testo)"
   ]
  },
  {
   "cell_type": "code",
   "execution_count": 47,
   "metadata": {
    "collapsed": false
   },
   "outputs": [
    {
     "data": {
      "text/plain": [
       "<pyplasm.xgepy.Hpc; proxy of <Swig Object of type 'std::shared_ptr< Hpc > *' at 0x000000000765D5D0> >"
      ]
     },
     "execution_count": 47,
     "metadata": {},
     "output_type": "execute_result"
    }
   ],
   "source": [
    "def fileToStructure(file_name):\n",
    "    import csv\n",
    "\n",
    "    dimensions = []\n",
    "    distancesPillars = []\n",
    "    distancesBeams = []\n",
    "    toFill = dimensions\n",
    "    vector = [0,0,0]\n",
    "    structure = STRUCT([CUBE(0)])\n",
    "\n",
    "    i = 1\n",
    "\n",
    "    with open(file_name, 'rb') as csvfile:\n",
    "        spamreader = csv.reader(csvfile, delimiter=' ', quotechar='|')\n",
    "        \n",
    "        for row in spamreader:\n",
    "                if(i % 2 == 0):\n",
    "                    j = 0\n",
    "                    for val in row:\n",
    "                        val = float(val)\n",
    "                        if(j == 5): toFill=distancesPillars\n",
    "                        if(val == -1): toFill=distancesBeams\n",
    "                        else: toFill.append(val)\n",
    "                        j+=1\n",
    "                    newFlatStructure = flatStructure(dimensions[0],dimensions[1],dimensions[2],dimensions[3],dimensions[4],distancesPillars,distancesBeams)\n",
    "                    structure = STRUCT([structure,T([1,2,3])(vector),newFlatStructure])\n",
    "                    dimensions = []\n",
    "                    distancesPillars = []\n",
    "                    distancesBeams = []\n",
    "                    toFill = dimensions\n",
    "                else:\n",
    "                    z = 0\n",
    "                    for val in row: \n",
    "                        vector[z] += float(val)\n",
    "                        z +=1\n",
    "            \n",
    "                i+=1\n",
    "    return structure\n",
    "\n",
    "VIEW(fileToStructure('frame_data_446724.csv'))\n",
    "    "
   ]
  },
  {
   "cell_type": "markdown",
   "metadata": {},
   "source": [
    "Creo una struttura utile a riprodurre quella del modello scelto"
   ]
  },
  {
   "cell_type": "code",
   "execution_count": 48,
   "metadata": {
    "collapsed": false
   },
   "outputs": [],
   "source": [
    "myStructure = fileToStructure('frame_data_446724.csv')"
   ]
  },
  {
   "cell_type": "markdown",
   "metadata": {},
   "source": [
    "Aggiungo le travi su asse X e visualizzo"
   ]
  },
  {
   "cell_type": "code",
   "execution_count": 49,
   "metadata": {
    "collapsed": false
   },
   "outputs": [
    {
     "data": {
      "text/plain": [
       "<pyplasm.xgepy.Hpc; proxy of <Swig Object of type 'std::shared_ptr< Hpc > *' at 0x000000000764CCF0> >"
      ]
     },
     "execution_count": 49,
     "metadata": {},
     "output_type": "execute_result"
    }
   ],
   "source": [
    "xPillar = 0.3\n",
    "xBeam = 0.8\n",
    "distancePillarsAxis = 3\n",
    "distancePillars = distancePillarsAxis-xPillar \n",
    "vectorDistancesX = [distancePillars,-xPillar,distancePillars,-xPillar,distancePillars,-xPillar,distancePillars]\n",
    "vecX = QUOTE(vectorDistancesX)\n",
    "vecXY = PROD ([vecX,QUOTE([.4])])\n",
    "vecXYZ = COLOR(RED)(PROD([vecXY,QUOTE([.1])]))\n",
    "axesOnX = STRUCT([T([1])([2.15]),vecXYZ])\n",
    "\n",
    "myStructure = STRUCT([myStructure,T([2,3])([0,0]),axesOnX])\n",
    "myStructure = STRUCT([myStructure,T([2,3])([8,0]),axesOnX])\n",
    "myStructure = STRUCT([myStructure,T([2,3])([0,3]),axesOnX])\n",
    "myStructure = STRUCT([myStructure,T([2,3])([2,3]),axesOnX])\n",
    "myStructure = STRUCT([myStructure,T([2,3])([4,3]),axesOnX])\n",
    "myStructure = STRUCT([myStructure,T([2,3])([6,3]),axesOnX])\n",
    "myStructure = STRUCT([myStructure,T([2,3])([2,6]),axesOnX])\n",
    "myStructure = STRUCT([myStructure,T([2,3])([4,6]),axesOnX])\n",
    "myStructure = STRUCT([myStructure,T([2,3])([6,6]),axesOnX])\n",
    "myStructure = STRUCT([myStructure,T([2,3])([8,3]),axesOnX])\n",
    "\n",
    "VIEW(myStructure)"
   ]
  },
  {
   "cell_type": "markdown",
   "metadata": {},
   "source": [
    "Aggiungo il basamento e visualizzo"
   ]
  },
  {
   "cell_type": "code",
   "execution_count": 50,
   "metadata": {
    "collapsed": false
   },
   "outputs": [
    {
     "data": {
      "text/plain": [
       "<pyplasm.xgepy.Hpc; proxy of <Swig Object of type 'std::shared_ptr< Hpc > *' at 0x000000000764CD50> >"
      ]
     },
     "execution_count": 50,
     "metadata": {},
     "output_type": "execute_result"
    }
   ],
   "source": [
    "myStructure = STRUCT([CUBOID([15,8+0.4,0.5]),T(3)(0.5),myStructure])\n",
    "VIEW(myStructure)"
   ]
  },
  {
   "cell_type": "markdown",
   "metadata": {
    "collapsed": true
   },
   "source": [
    "Aggiungo il tetto e visualizzo (RISULTATO FINALE)"
   ]
  },
  {
   "cell_type": "code",
   "execution_count": 51,
   "metadata": {
    "collapsed": false
   },
   "outputs": [
    {
     "data": {
      "text/plain": [
       "<pyplasm.xgepy.Hpc; proxy of <Swig Object of type 'std::shared_ptr< Hpc > *' at 0x000000000763DB40> >"
      ]
     },
     "execution_count": 51,
     "metadata": {},
     "output_type": "execute_result"
    }
   ],
   "source": [
    "from math import *\n",
    "pi = math.pi\n",
    "\n",
    "zRoof = 0.2\n",
    "yRoof = 8.4\n",
    "xBoardRoof = xBeam\n",
    "\n",
    "ht = CUBOID([xBoardRoof,yRoof/sqrt(3),zRoof])\n",
    "t1 = R([2,3])(pi/6)(ht)\n",
    "t2 = R([2,3])(pi/6*5)(ht)\n",
    "boardRoof = STRUCT([t1,T([2,3])([yRoof+zRoof/2,zRoof*sqrt(3)/2]),t2])\n",
    "\n",
    "roof = STRUCT([T(1)(1.6),boardRoof,T(1)(3),boardRoof,T(1)(3),boardRoof,T(1)(3),boardRoof,T(1)(3),boardRoof])\n",
    "\n",
    "\n",
    "myStructure = STRUCT([myStructure,T(3)(6.5),roof])\n",
    "\n",
    "VIEW(myStructure)"
   ]
  },
  {
   "cell_type": "markdown",
   "metadata": {},
   "source": [
    "Definisco funzione richiesta e la testo"
   ]
  },
  {
   "cell_type": "code",
   "execution_count": 52,
   "metadata": {
    "collapsed": false
   },
   "outputs": [
    {
     "data": {
      "text/plain": [
       "<pyplasm.xgepy.Hpc; proxy of <Swig Object of type 'std::shared_ptr< Hpc > *' at 0x00000000076C4810> >"
      ]
     },
     "execution_count": 52,
     "metadata": {},
     "output_type": "execute_result"
    }
   ],
   "source": [
    "def ggpl_bone_structure (file_name):\n",
    "    myStructure = myStructure = fileToStructure(file_name)\n",
    "    \n",
    "    xPillar = 0.3\n",
    "    xBeam = 0.8\n",
    "    distancePillarsAxis = 3\n",
    "    distancePillars = distancePillarsAxis-xPillar \n",
    "    vectorDistancesX = [distancePillars,-xPillar,distancePillars,-xPillar,distancePillars,-xPillar,distancePillars]\n",
    "    vecX = QUOTE(vectorDistancesX)\n",
    "    vecXY = PROD ([vecX,QUOTE([.4])])\n",
    "    vecXYZ = COLOR(RED)(PROD([vecXY,QUOTE([.1])]))\n",
    "    axesOnX = STRUCT([T([1])([2.15]),vecXYZ])\n",
    "\n",
    "    myStructure = STRUCT([myStructure,T([2,3])([0,0]),axesOnX])\n",
    "    myStructure = STRUCT([myStructure,T([2,3])([8,0]),axesOnX])\n",
    "    myStructure = STRUCT([myStructure,T([2,3])([0,3]),axesOnX])\n",
    "    myStructure = STRUCT([myStructure,T([2,3])([2,3]),axesOnX])\n",
    "    myStructure = STRUCT([myStructure,T([2,3])([4,3]),axesOnX])\n",
    "    myStructure = STRUCT([myStructure,T([2,3])([6,3]),axesOnX])\n",
    "    myStructure = STRUCT([myStructure,T([2,3])([2,6]),axesOnX])\n",
    "    myStructure = STRUCT([myStructure,T([2,3])([4,6]),axesOnX])\n",
    "    myStructure = STRUCT([myStructure,T([2,3])([6,6]),axesOnX])\n",
    "    myStructure = STRUCT([myStructure,T([2,3])([8,3]),axesOnX])\n",
    "    \n",
    "    myStructure = STRUCT([CUBOID([15,8+0.4,0.5]),T(3)(0.5),myStructure])\n",
    "    \n",
    "    pi = math.pi\n",
    "\n",
    "    zRoof = 0.2\n",
    "    yRoof = 8.4\n",
    "    xBoardRoof = xBeam\n",
    "\n",
    "    ht = CUBOID([xBoardRoof,yRoof/sqrt(3),zRoof])\n",
    "    t1 = R([2,3])(pi/6)(ht)\n",
    "    t2 = R([2,3])(pi/6*5)(ht)\n",
    "    boardRoof = STRUCT([t1,T([2,3])([yRoof+zRoof/2,zRoof*sqrt(3)/2]),t2])\n",
    "\n",
    "    roof = STRUCT([T(1)(1.6),boardRoof,T(1)(3),boardRoof,T(1)(3),boardRoof,T(1)(3),boardRoof,T(1)(3),boardRoof])\n",
    "\n",
    "\n",
    "    myStructure = STRUCT([myStructure,T(3)(6.5),roof])\n",
    "    \n",
    "    return myStructure\n",
    "    \n",
    "VIEW(ggpl_bone_structure('frame_data_446724.csv'))"
   ]
  }
 ],
 "metadata": {
  "kernelspec": {
   "display_name": "Python 2",
   "language": "python",
   "name": "python2"
  },
  "language_info": {
   "codemirror_mode": {
    "name": "ipython",
    "version": 2
   },
   "file_extension": ".py",
   "mimetype": "text/x-python",
   "name": "python",
   "nbconvert_exporter": "python",
   "pygments_lexer": "ipython2",
   "version": "2.7.12"
  }
 },
 "nbformat": 4,
 "nbformat_minor": 1
}
