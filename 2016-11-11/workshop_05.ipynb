{
 "cells": [
  {
   "cell_type": "markdown",
   "metadata": {
    "collapsed": true
   },
   "source": [
    "# Class Furniture\n",
    "\n",
    "## Realizzazione di forniture scolastiche\n",
    "\n",
    "### Modelli riprodotti (img. e links):\n",
    "\n",
    "- Armadietto\n",
    "- Lavagna\n",
    "- Sedia\n",
    "- Cattedra\n",
    "- Tavolo\n",
    "\n",
    "<img src=\"files/closet.jpg\" width=\"200\">\n",
    "http://www.annunci.net/sites/default/files/annunci/images/4/5/8/8/6/025.jpg\n",
    "\n",
    "<img src=\"files/blackboard.jpg\" width=\"400\">\n",
    "https://c2.staticflickr.com/8/7168/6833123861_50d8295b1b_b.jpg\n",
    "\n",
    "<img src=\"files/chair.jpg\" width=\"200\">\n",
    "http://www.civilsedia.it/privato/immagini/49_01.jpg\n",
    "\n",
    "<img src=\"files/teachPost.jpg\" width=\"300\">\n",
    "http://www.prismarredo.it/ecomm2/listino/prismarredo_1724p.jpg\n",
    "\n",
    "<img src=\"files/table.jpg\" width=\"200\">\n",
    "http://www.mobiliscuola.it/v121005_0000.jpg\n",
    "\n",
    "### Assemblaggio di una classe tipo\n",
    "\n",
    "<img src=\"files/classNV.jpg\">\n",
    "\n",
    "<img src=\"files/classUp.jpg\">\n",
    "\n",
    "<img src=\"files/classTV.jpg\">\n",
    "\n",
    "<img src=\"files/classSV.jpg\">\n",
    "\n"
   ]
  },
  {
   "cell_type": "markdown",
   "metadata": {},
   "source": [
    "Importo la libreria pyplasm"
   ]
  },
  {
   "cell_type": "code",
   "execution_count": 22,
   "metadata": {
    "collapsed": false
   },
   "outputs": [],
   "source": [
    "from pyplasm import *"
   ]
  },
  {
   "cell_type": "markdown",
   "metadata": {},
   "source": [
    "Imposto una variabile da utilizzare globalmente per abilitare la creazione di bordi rossi di riferimento (verifica che un oggetto non oltrepassi le dimensioni dx dy e dz fissate come parametri per la sua creazione)"
   ]
  },
  {
   "cell_type": "code",
   "execution_count": 23,
   "metadata": {
    "collapsed": true
   },
   "outputs": [],
   "source": [
    "enableObjectBorder = FALSE"
   ]
  },
  {
   "cell_type": "markdown",
   "metadata": {},
   "source": [
    "Definisco una funzione che mi consente di ruotare oggetti sul piano XY (gli oggetti devono essere centrati in tale piano)"
   ]
  },
  {
   "cell_type": "code",
   "execution_count": 24,
   "metadata": {
    "collapsed": true
   },
   "outputs": [],
   "source": [
    "def rotateXY(obj, degrees) :\n",
    "    obj = STRUCT([R([1,2])(degrees*6.28/360),obj])\n",
    "    return obj"
   ]
  },
  {
   "cell_type": "markdown",
   "metadata": {},
   "source": [
    "## Riproduzione armadietto\n",
    "\n",
    "Definisco una funzione che restituisce la riproduzione di un armadietto date le sue dimensioni. Viene passato come parametro anche un booleano che permette di indicare se riprodurre un armadietto aperto oppure chiuso (le dimensioni suddette sono caratteristiche dell'armadietto chiuso)\n",
    "\n",
    "<img src=\"files/CLC.jpg\">\n",
    "<img src=\"files/CLO.jpg\">"
   ]
  },
  {
   "cell_type": "code",
   "execution_count": 25,
   "metadata": {
    "collapsed": true
   },
   "outputs": [],
   "source": [
    "def closet(dx,dy,dz,open):\n",
    "    dx = float(dx)\n",
    "    dy = float(dy)\n",
    "    dz = float(dz)\n",
    "    norm = 255.0\n",
    " \n",
    "    depth = .03\n",
    "    closet = CUBOID([dx-depth,dy-depth,dz-depth])\n",
    "    closet = SKEL_2(closet)\n",
    "    \n",
    "    uk = UKPOL(closet)\n",
    "    points = uk[0]\n",
    "    cells = uk[1]\n",
    "    newPoints = points\n",
    "    newCells=[]\n",
    "   \n",
    "    for cell in cells:\n",
    "        eliminate = TRUE\n",
    "        for index in cell:\n",
    "            point = points [index-1]\n",
    "            if point[0]>dx-depth+0.001 or point[0]<dx-depth-0.001:\n",
    "                eliminate = FALSE\n",
    "        if eliminate == FALSE:\n",
    "            newCells.append(cell)\n",
    "            \n",
    "    closet=MKPOL([newPoints,newCells,1])\n",
    "    \n",
    "    closet = OFFSET([depth,depth,depth])(closet)\n",
    "    \n",
    "    shelf = CUBOID([dx-3*depth,dy-2*depth,depth])\n",
    "    closet = STRUCT([closet,T([1,2,3])([depth,depth,dz*1/4]),shelf,T([3])([dz*1/4]),shelf,T([3])([dz*1/4]),shelf])\n",
    "    \n",
    "    doorC = CUBOID([depth,(dy-2*depth)/2,dz-2*depth])\n",
    "    doorO = CUBOID([(dy-2*depth)/2,depth,dz-2*depth])\n",
    "    \n",
    "    closetC = STRUCT([closet,T([1,2,3])([dx-depth,depth,depth]),doorC,T(2)((dy-2*depth)/2),doorC])\n",
    "    closetO = STRUCT([closet,T([1,2,3])([dx-depth,depth,depth]),doorO,T(2)((dy-3*depth)),doorO])\n",
    "    \n",
    "    rKH = 0.03\n",
    "    hKH = 0.03\n",
    "    keyHole = COLOR([32/norm,32/norm,32/norm])(CYLINDER([rKH,hKH])(50))\n",
    "    keyHole = STRUCT([T([3])([-hKH/2]),keyHole])\n",
    "    keyHoleC = STRUCT([R([1,3])(90*6.28/360),keyHole])\n",
    "    keyHoleO = STRUCT([R([1,2])(90*6.28/360),keyHoleC])\n",
    "    \n",
    "    closetC = STRUCT([closetC,T([1,2,3])([dx,dy/2+rKH+0.05,dz/2]),keyHoleC])\n",
    "    closetO = STRUCT([closetO,T([1,2,3])([dx+dy/2-2*depth-0.05-rKH,dy-depth,dz/2]),keyHoleO])\n",
    "    \n",
    "    if open :\n",
    "        closet = COLOR([192/norm,192/norm,192/norm])(closetO)\n",
    "    else:\n",
    "        closet = COLOR([192/norm,192/norm,192/norm])(closetC)\n",
    "    \n",
    "    global enableObjectBorder\n",
    "    if enableObjectBorder :\n",
    "        limit = COLOR(RED)(SKEL_1(CUBOID([dx,dy,dz])))\n",
    "        closet = STRUCT([closet,limit])\n",
    "    \n",
    "    closet =  STRUCT([T([1,2])([-dx/2,-dy/2]),closet])\n",
    "    return closet"
   ]
  },
  {
   "cell_type": "markdown",
   "metadata": {},
   "source": [
    "## Riproduzione lavagna\n",
    "\n",
    "Definisco una funzione che restituisce la riproduzione di una lavagna date le sue dimensioni (non comprendenti il \"portagessi\").\n",
    "\n",
    "<img src=\"files/BB.jpg\">"
   ]
  },
  {
   "cell_type": "code",
   "execution_count": 26,
   "metadata": {
    "collapsed": false
   },
   "outputs": [],
   "source": [
    "def blackboard(dx,dy,dz):\n",
    "    dx = float(dx)\n",
    "    dy = float(dy)\n",
    "    dz = float(dz)\n",
    "    norm = 255.0\n",
    "    \n",
    "    depth = .2\n",
    "    \n",
    "    \n",
    "    pointsOut = [[0,0],[0,dz],[dy,dz],[dy,0],[depth,depth],[depth,dz-depth],[dy-depth,dz-depth],[dy-depth,depth]]\n",
    "    pointsIn = [[depth,depth],[depth,dz-depth],[dy-depth,dz-depth],[dy-depth,depth]]\n",
    "    \n",
    "    cellsOut = [[1,2,5,6],[2,3,6,7],[3,4,7,8],[4,1,8,5]]\n",
    "    cellsIn = [[1,2,3,4]]\n",
    "    \n",
    "    bbOut = MKPOL([pointsOut,cellsOut,1])\n",
    "    bbOut = COLOR([230/norm,131/norm,31/norm])(PROD([QUOTE([dx]), bbOut]))\n",
    "    \n",
    "    bbIn = MKPOL([pointsIn,cellsIn,1])\n",
    "    bbIn = COLOR([32/norm,32/norm,32/norm])(PROD([QUOTE([dx/2]), bbIn]))\n",
    "    \n",
    "    shelf = COLOR([230/norm,131/norm,31/norm])(CUBOID([.1,dy,.02]))\n",
    "    \n",
    "    bb = STRUCT([bbIn,bbOut,T(1)(dx),shelf])\n",
    "    \n",
    "    global enableObjectBorder\n",
    "    if enableObjectBorder :\n",
    "        limit = COLOR(RED)(SKEL_1(CUBOID([dx,dy,dz])))\n",
    "        bb = STRUCT([bb,limit])\n",
    "    \n",
    "    bb =  STRUCT([T([1,2])([-dx/2,-dy/2]),bb])\n",
    "    return bb"
   ]
  },
  {
   "cell_type": "markdown",
   "metadata": {},
   "source": [
    "## Riproduzione sedia\n",
    "\n",
    "Definisco una funzione che restituisce la riproduzione di una sedia date le sue dimensioni.\n",
    "\n",
    "<img src=\"files/CH.jpg\">"
   ]
  },
  {
   "cell_type": "code",
   "execution_count": 27,
   "metadata": {
    "collapsed": false
   },
   "outputs": [],
   "source": [
    "def chair(dx,dy,dz):\n",
    "    dx = float(dx)\n",
    "    dy = float(dy)\n",
    "    dz = float(dz)\n",
    "    norm = 255.0\n",
    "    \n",
    "    mx = dx/20\n",
    "    my = dy/20\n",
    "\n",
    "    strutDepth = .02\n",
    "    \n",
    "    ch = MKPOL([[\n",
    "                [0,my,0],[0,dy-my,0],\n",
    "                [dx-mx,my,0],[dx-mx,dy-my,0],\n",
    "                [dx-mx,my,dz/4],[dx-mx,dy-my,dz/4],\n",
    "                [dx-mx,my,dz/2],[dx-mx,dy-my,dz/2],\n",
    "                [0,my,dz/2],[0,dy-my,dz/2],\n",
    "                [0,my,dz/6*5],[0,dy-my,dz/6*5],],\n",
    "                \n",
    "                [[1,11],[2,12],[3,7],[4,8],[5,6],[7,9],[8,10],[11,12]],1])\n",
    "    \n",
    "    ch = COLOR([32/norm,32/norm,32/norm])(STRUCT([T([1,2])([0,-strutDepth/2]),OFFSET([strutDepth,strutDepth,strutDepth])(ch)]))\n",
    "    \n",
    "    sittingDepth = .02\n",
    "    sitting = COLOR([230/norm,131/norm,31/norm])(CUBOID([dx-strutDepth,dy,sittingDepth]))\n",
    "    ch = STRUCT([ch,T([1,3])([strutDepth,dz/2+strutDepth]),sitting])\n",
    "    \n",
    "    backDepth = .02\n",
    "    back = COLOR([230/norm,131/norm,31/norm])(CUBOID([backDepth,dy,dz/4]))\n",
    "    ch = STRUCT([ch,T([1,3])([strutDepth,dz-dz/4]),back])\n",
    "    \n",
    "    global enableObjectBorder\n",
    "    if enableObjectBorder :\n",
    "        limit = COLOR(RED)(SKEL_1(CUBOID([dx,dy,dz])))\n",
    "        ch = STRUCT([ch,limit])\n",
    "    \n",
    "    ch =  STRUCT([T([1,2])([-dx/2,-dy/2]),ch])\n",
    "    return ch\n"
   ]
  },
  {
   "cell_type": "markdown",
   "metadata": {},
   "source": [
    "## Riproduzione cattedra\n",
    "\n",
    "Definisco una funzione che restituisce la riproduzione di una cattedra date le sue dimensioni.\n",
    "\n",
    "<img src=\"files/TP.jpg\">"
   ]
  },
  {
   "cell_type": "code",
   "execution_count": 28,
   "metadata": {
    "collapsed": false
   },
   "outputs": [],
   "source": [
    "def teachingPost(dx,dy,dz):\n",
    "    dx = float(dx)\n",
    "    dy = float(dy)\n",
    "    dz = float(dz)\n",
    "    norm = 255.0\n",
    "    \n",
    "    mx = dx/20\n",
    "    my = dy/20\n",
    "\n",
    "    depth = my/2\n",
    "    hLeg = dz-depth\n",
    "    rLeg = .02\n",
    "    \n",
    "    tp = COLOR([153/norm,255/norm,153/norm])(CUBOID([dx,dy,depth]))\n",
    "    tp = STRUCT([T([3])([hLeg]),tp])\n",
    "    \n",
    "    leg = COLOR([32/norm,32/norm,32/norm])(CYLINDER([rLeg,hLeg])(100))\n",
    "    tp = STRUCT([tp,T([1,2])([mx,my]),leg,\n",
    "                 T([1])([dx-2*mx]),leg,\n",
    "                 T([2])([dy-2*my]),leg,\n",
    "                 T([1])([-dx+2*mx]),leg])\n",
    "    \n",
    "    strut = MKPOL([[[mx,my,0],[mx,dy-my,0],[dx-mx,dy-my,0],[dx-mx,my,0]],\n",
    "                   [[1,2,3,4]],1])\n",
    "    strut = SKEL_1(strut)\n",
    "    strut = COLOR([32/norm,32/norm,32/norm])(STRUCT([T([1,2])([-rLeg/2,-rLeg/2]),OFFSET([rLeg/2,rLeg/2,depth*2])(strut)]))\n",
    "    \n",
    "    tp = STRUCT([tp,T([3])([hLeg-2*depth]),strut])\n",
    "    \n",
    "    hCover = dz/2\n",
    "    dCover = 0.01\n",
    "    cover = COLOR([230/norm,131/norm,31/norm])(CUBOID([dCover,dy,hCover]))\n",
    "    tp = STRUCT([tp,T([1,3])([mx-rLeg-dCover,hLeg-hCover-0.1]),cover])\n",
    "    \n",
    "    xDrawer = dy/3\n",
    "    yDrawer = dx/2\n",
    "    zDrawer = dz/4\n",
    "    drawer = CUBOID([xDrawer-0.01,yDrawer-0.01,zDrawer-0.01])\n",
    "    drawer = SKEL_2(drawer)\n",
    " \n",
    "    uk = UKPOL(drawer)\n",
    "    points = uk[0]\n",
    "    cells = uk[1]\n",
    "    newPoints = points\n",
    "    newCells=[]\n",
    "   \n",
    "    for cell in cells:\n",
    "        eliminate = TRUE\n",
    "        for index in cell:\n",
    "            point = points [index-1]\n",
    "            if point[0]>xDrawer-0.01+0.001 or point[0]<xDrawer-0.01-0.001:\n",
    "                eliminate = FALSE\n",
    "        if eliminate == FALSE:\n",
    "            newCells.append(cell)\n",
    "            \n",
    "    drawer = MKPOL([newPoints,newCells,1])\n",
    "    drawer = COLOR([230/norm,131/norm,31/norm])(OFFSET([.01,.01,.01])(drawer))\n",
    "    \n",
    "    tp = STRUCT([tp,T([1,2,3])([dx-xDrawer-mx-rLeg,dy-yDrawer-my-rLeg,dz-depth-zDrawer]),drawer])\n",
    "    \n",
    "    global enableObjectBorder\n",
    "    if enableObjectBorder :             \n",
    "        limit = COLOR(RED)(SKEL_1(CUBOID([dx,dy,dz])))\n",
    "        tp = STRUCT([tp,limit])\n",
    "    \n",
    "    tp =  STRUCT([T([1,2])([-dx/2,-dy/2]),tp])\n",
    "    return tp"
   ]
  },
  {
   "cell_type": "markdown",
   "metadata": {},
   "source": [
    "## Riproduzione tavolo\n",
    "\n",
    "Definisco una funzione che restituisce la riproduzione di un tavolo date le sue dimensioni.\n",
    "\n",
    "<img src=\"files/TB.jpg\">"
   ]
  },
  {
   "cell_type": "code",
   "execution_count": 29,
   "metadata": {
    "collapsed": true
   },
   "outputs": [],
   "source": [
    "def table(dx,dy,dz):\n",
    "    dx = float(dx)\n",
    "    dy = float(dy)\n",
    "    dz = float(dz)\n",
    "    norm = 255.0\n",
    "    \n",
    "    mx = dx/20\n",
    "    my = dy/20\n",
    "\n",
    "    tableDepth = my/2\n",
    "    strutDepth = .02\n",
    "    \n",
    "    hSubTable = dz/4*3\n",
    "    \n",
    "    tb = MKPOL([[\n",
    "                [mx,my,0],[mx,dy-my,0],\n",
    "                [mx,my,dz/5],[mx,dy-my,dz/5],\n",
    "                [mx,my,hSubTable],[mx,dy-my,hSubTable],\n",
    "                [mx,my,dz-tableDepth-strutDepth],[mx,dy-my,dz-tableDepth-strutDepth],\n",
    "                [dx-mx,my,0],[dx-mx,dy-my,0],\n",
    "                [dx-mx,my,hSubTable],[dx-mx,dy-my,hSubTable],\n",
    "                [dx-mx,my,dz-tableDepth-strutDepth],[dx-mx,dy-my,dz-tableDepth-strutDepth]],\n",
    "                \n",
    "                [[1,7],[2,8],[10,14],[9,13],[11,5],[12,6],[3,4],[13,14],[7,8]],1])\n",
    "    \n",
    "    tb = COLOR([32/norm,32/norm,32/norm])(STRUCT([T([1,2])([0,-strutDepth/2]),OFFSET([strutDepth,strutDepth,strutDepth])(tb)]))\n",
    "    \n",
    "    table = COLOR([153/norm,255/norm,153/norm])(CUBOID([dx,dy,tableDepth]))\n",
    "    tb = STRUCT([tb,T([3])([dz-tableDepth]),table])\n",
    "    \n",
    "    subTable = COLOR([230/norm,131/norm,31/norm])(STRUCT([CUBOID([dx-2*mx-strutDepth,dy-2*my,tableDepth]),T(3)(tableDepth),CUBOID([tableDepth,dy-2*my,tableDepth])]))\n",
    "    tb = STRUCT([tb,T([1,2,3])([mx+strutDepth,my,hSubTable+strutDepth]),subTable])\n",
    "    \n",
    "    global enableObjectBorder\n",
    "    if enableObjectBorder :\n",
    "        limit = COLOR(RED)(SKEL_1(CUBOID([dx,dy,dz])))\n",
    "        tb = STRUCT([tb,limit])\n",
    "    \n",
    "    tb =  STRUCT([T([1,2])([-dx/2,-dy/2]),tb])\n",
    "    return tb"
   ]
  },
  {
   "cell_type": "markdown",
   "metadata": {},
   "source": [
    "Testo le funzioni definite e visualizzo gli oggetti riprodotti"
   ]
  },
  {
   "cell_type": "code",
   "execution_count": 30,
   "metadata": {
    "collapsed": false
   },
   "outputs": [],
   "source": [
    "myCloset = closet(1,2,3,TRUE)\n",
    "#VIEW(myCloset)\n",
    "myBlackboard = blackboard(.05,3,1.5)\n",
    "#VIEW(myBlackboard)\n",
    "myTeachingPost = teachingPost(1,1.5,1)\n",
    "#VIEW(myTeachingPost)\n",
    "myChair = chair(.4,.4,.9)\n",
    "#VIEW(myChair)\n",
    "myTable = table(.8,1.8,.9)\n",
    "#VIEW(myTable)"
   ]
  },
  {
   "cell_type": "markdown",
   "metadata": {},
   "source": [
    "## Assemblaggio\n",
    "\n",
    "Assemblo una classe tipo e la visualizzo (posso abilitare i bordi di controllo per tutti gli oggetti presenti nella classe)\n",
    "\n",
    "<img src=\"files/classBordered.jpg\">"
   ]
  },
  {
   "cell_type": "code",
   "execution_count": 31,
   "metadata": {
    "collapsed": false
   },
   "outputs": [
    {
     "data": {
      "text/plain": [
       "<pyplasm.xgepy.Hpc; proxy of <Swig Object of type 'std::shared_ptr< Hpc > *' at 0x0000000007C3EDB0> >"
      ]
     },
     "execution_count": 31,
     "metadata": {},
     "output_type": "execute_result"
    }
   ],
   "source": [
    "xST = 0.8\n",
    "yST = 1.8\n",
    "zST = 0.9\n",
    "studTable = table(xST,yST,zST)\n",
    "xSC = 0.4\n",
    "ySC = 0.4\n",
    "zSC = 0.9\n",
    "studChair = chair(xSC,ySC,zSC)\n",
    "studChair = rotateXY(studChair,180)\n",
    "studPost = STRUCT([studTable,T([1,2])([.5,-.4]),studChair,T([2])([.8]),studChair])\n",
    "#VIEW(studPost)\n",
    "studRow = STRUCT([studPost,T(2)(-(1+yST)),studPost,T(2)((1+yST)*2),studPost])\n",
    "studMatrix = STRUCT([studRow,T(1)(-(1+xST)),studRow,T(1)((1+xST)*2),studRow])\n",
    "#VIEW(studMatrix)\n",
    "\n",
    "xTT = 1.0\n",
    "yTT = 1.5\n",
    "zTT = 1.0\n",
    "teachTeachingPost = teachingPost(xTT,yTT,zTT)\n",
    "xTC = 0.5\n",
    "yTC = 0.5\n",
    "zTC = 1.0\n",
    "teachChair = chair(xTC,yTC,zTC)\n",
    "teachChair = rotateXY(teachChair,180)\n",
    "teachPost = STRUCT([myTeachingPost,T([1,2])([.5,-.25]),teachChair])\n",
    "#VIEW(teachPost)\n",
    "teachPost = rotateXY(teachPost,160)\n",
    "\n",
    "xCL = 0.5\n",
    "yCL = 0.8\n",
    "zCL = 2.0\n",
    "classClosetOpen = closet(xCL,yCL,zCL,TRUE)\n",
    "classClosetClosed = closet(xCL,yCL,zCL,FALSE)\n",
    "closetRow = STRUCT([classClosetOpen,\n",
    "                    T(2)(-yCL),classClosetOpen,\n",
    "                    T(2)(2*yCL),classClosetClosed,\n",
    "                    T(2)(-3*yCL),classClosetClosed,\n",
    "                    T(2)(4*yCL),classClosetClosed,\n",
    "                    T(2)(-5*yCL),classClosetClosed,\n",
    "                    T(2)(6*yCL),classClosetClosed,\n",
    "                    T(2)(-7*yCL),classClosetOpen,\n",
    "                    T(2)(8*yCL),classClosetClosed])\n",
    "closetRowEast = rotateXY(closetRow,-90)\n",
    "closetRowWest = rotateXY(closetRow,90)\n",
    "\n",
    "shortClosetOpen = closet(xCL,yCL*1.5,zCL/2,TRUE)\n",
    "shortClosetClosed = closet(xCL,yCL*1.5,zCL/2,FALSE)\n",
    "closetRowNorth = STRUCT([\n",
    "                    T(2)(-yCL*1.5/2),shortClosetOpen,\n",
    "                    T(2)(yCL*1.5),shortClosetClosed])\n",
    "\n",
    "xBB = .05\n",
    "yBB = 5.0\n",
    "zBB = 1.5\n",
    "classBlackboard = blackboard(xBB,yBB,zBB)\n",
    "\n",
    "xClass = 10.0\n",
    "yClass = 11.0\n",
    "zClass = 3.0\n",
    "wallDepth = .5\n",
    "norm = 255.0\n",
    "wall = MKPOL([[\n",
    "            [0,0],[0,yClass],[xClass,yClass],[xClass,0],\n",
    "            [-wallDepth,-wallDepth],[-wallDepth,yClass+wallDepth],[xClass,yClass+wallDepth],[xClass,-wallDepth],]\n",
    "              ,[[1,2,5,6],[1,5,8,4],[2,3,7,6]],1])\n",
    "wall = COLOR([204/norm,229/norm,255/norm])(PROD([wall,QUOTE([zClass])]))\n",
    "\n",
    "myClass = wall\n",
    "myClass = STRUCT([myClass,T([1,2])([xClass/2+1,yClass/2]),studMatrix])\n",
    "myClass = STRUCT([myClass,T([1,2])([2,8]),teachPost])\n",
    "myClass = STRUCT([myClass,T([1,2,3])([xBB/2,yClass/2,0.8]),classBlackboard])\n",
    "myClass = STRUCT([myClass,T([1,2])([xClass/2,yClass-xCL/2,1]),closetRowEast])\n",
    "myClass = STRUCT([myClass,T([1,2])([xClass/2,xCL/2,1]),closetRowWest])\n",
    "myClass = STRUCT([myClass,T([1,2])([xCL/2,yCL*1.5]),closetRowNorth,T([2])([yClass-yCL*1.5*2]),closetRowNorth])\n",
    "\n",
    "VIEW(myClass)\n"
   ]
  }
 ],
 "metadata": {
  "kernelspec": {
   "display_name": "Python 2",
   "language": "python",
   "name": "python2"
  },
  "language_info": {
   "codemirror_mode": {
    "name": "ipython",
    "version": 2
   },
   "file_extension": ".py",
   "mimetype": "text/x-python",
   "name": "python",
   "nbconvert_exporter": "python",
   "pygments_lexer": "ipython2",
   "version": "2.7.12"
  }
 },
 "nbformat": 4,
 "nbformat_minor": 1
}
