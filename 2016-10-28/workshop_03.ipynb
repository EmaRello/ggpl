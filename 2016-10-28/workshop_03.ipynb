{
 "cells": [
  {
   "cell_type": "markdown",
   "metadata": {},
   "source": [
    "# Concrete_Stairs"
   ]
  },
  {
   "cell_type": "markdown",
   "metadata": {},
   "source": [
    "<img src=\"files/stairs.jpg\"><img src=\"files/stairsPy.jpg\">\n",
    "http://www.arden.net.au/site/DefaultSite/filesystem/images/photogallery/concrete-stairs/concrete-stairs-10.jpg"
   ]
  },
  {
   "cell_type": "markdown",
   "metadata": {},
   "source": [
    "N.B. ho commentato (#) le varie viste di test per consentire di visualizzare solo quella finale"
   ]
  },
  {
   "cell_type": "markdown",
   "metadata": {},
   "source": [
    "Importo libreria necessaria"
   ]
  },
  {
   "cell_type": "code",
   "execution_count": 460,
   "metadata": {
    "collapsed": false
   },
   "outputs": [],
   "source": [
    "from pyplasm import *"
   ]
  },
  {
   "cell_type": "markdown",
   "metadata": {},
   "source": [
    "Definisco una funzione che, date le sue dimensioni, mi restituisce un gradino (estruso su X) e la testo"
   ]
  },
  {
   "cell_type": "code",
   "execution_count": 461,
   "metadata": {
    "collapsed": false
   },
   "outputs": [],
   "source": [
    "\"\"\"\n",
    "Funzione per la realizzazione di un gradino\n",
    "-riser è l'alzata del gradino\n",
    "-tread è la piedata del gradino\n",
    "-width è l'ampiezza del gradino\n",
    "\"\"\"\n",
    "def step(width,riser,tread) :\n",
    "    step = MKPOL([[[0,0],[0,riser*2],[tread,riser*2],[tread,riser]],[[1,2,3,4]],1])\n",
    "    step = PROD([QUOTE([width]), step])\n",
    "    return step\n",
    "\n",
    "#VIEW (step(1,0.2,0.25))"
   ]
  },
  {
   "cell_type": "markdown",
   "metadata": {},
   "source": [
    "Definisco una funzione che, date le dimensioni ed il numero dei gradini , mi restituisce una scalinata (e la testo)"
   ]
  },
  {
   "cell_type": "code",
   "execution_count": 462,
   "metadata": {
    "collapsed": false
   },
   "outputs": [],
   "source": [
    "\"\"\"\n",
    "Funzione per la realizzazione di una scalinata\n",
    "\"\"\"\n",
    "def stairs(width,riser,tread,nSteps) :\n",
    "    structureElements = [CUBOID([width,tread,riser]),T([2])([tread]),step(width,riser,tread)]\n",
    "    for i in range(2,int(nSteps)):\n",
    "        structureElements.append(T([2,3])([tread,riser]))\n",
    "        structureElements.append(step(width,riser,tread))\n",
    "    s = STRUCT(structureElements)\n",
    "    return s\n",
    "\n",
    "#VIEW (stairs(1,0.2,0.25,10))\n",
    "\n",
    "    "
   ]
  },
  {
   "cell_type": "markdown",
   "metadata": {},
   "source": [
    "Definisco una funzione che dati dx,dy,dz (dimensioni della scala) mi restituisce le dimensioni ideali dei gradini e la loro \"cardinalità\" (mi serve principalmente per adattare \"pianerottoli\" alla scalinata nella riproduzione del modello)"
   ]
  },
  {
   "cell_type": "code",
   "execution_count": 463,
   "metadata": {
    "collapsed": true
   },
   "outputs": [],
   "source": [
    "\"\"\"\n",
    "Funzione per adattare le dimensioni dei gradini a quelle della scalinata\n",
    "\"\"\"\n",
    "def getStepDimensions (dx,dy,dz) :\n",
    "    treadRef = 0.25\n",
    "\n",
    "    nSteps = dy/treadRef\n",
    "    \n",
    "    nSteps -= nSteps%1\n",
    "    \n",
    "    tread=dy/nSteps\n",
    "    \n",
    "    riser = dz/nSteps\n",
    "    \n",
    "    return [riser,tread,nSteps]\n",
    "    "
   ]
  },
  {
   "cell_type": "markdown",
   "metadata": {},
   "source": [
    "Definisco una funzione che, date le dimensioni (dx,dy,dz) della scala, mi restituisce una scalinata di dimensioni adattate (e la testo). "
   ]
  },
  {
   "cell_type": "code",
   "execution_count": 464,
   "metadata": {
    "collapsed": false
   },
   "outputs": [],
   "source": [
    "\"\"\"\n",
    "Funzione per la realizzazione di una scalinata adattata\n",
    "\"\"\"\n",
    "def adaptedStairs (dx,dy,dz) :\n",
    "    stepDimensions = getStepDimensions(dx,dy,dz)\n",
    "    \n",
    "    riser = stepDimensions[0]\n",
    "    tread = stepDimensions[1]\n",
    "    nSteps = stepDimensions[2]\n",
    "    \n",
    "    return stairs(dx,riser,tread,nSteps)\n",
    "\n",
    "#VIEW(adaptedStairs(1.0,5.0,4.0))"
   ]
  },
  {
   "cell_type": "markdown",
   "metadata": {},
   "source": [
    "Verifico il corretto funzionamento accostando alla scala un parallelepipedo di uguali dimensioni"
   ]
  },
  {
   "cell_type": "code",
   "execution_count": 465,
   "metadata": {
    "collapsed": false
   },
   "outputs": [],
   "source": [
    "wall = COLOR(RED)(CUBOID([1.0,5.0,4.0]))\n",
    "verStruct = STRUCT([adaptedStairs(1.0,5.0,4.0),T(1)(-1.0),wall])\n",
    "#VIEW(verStruct)"
   ]
  },
  {
   "cell_type": "markdown",
   "metadata": {},
   "source": [
    "Definisco una funzione che realizza un corrimano a partire dalle dimensioni del corrimano stesso e della gradinata (e la testo)"
   ]
  },
  {
   "cell_type": "code",
   "execution_count": 466,
   "metadata": {
    "collapsed": false
   },
   "outputs": [],
   "source": [
    "\"\"\"\n",
    "Funzione per la realizzazione di un corrimano\n",
    "\"\"\"\n",
    "def handRail (hHandRail,sHandRail,xHandRail,riser,tread,dy,dz):\n",
    "    shHandRail=hHandRail+sHandRail\n",
    "\n",
    "    handRail2D = MKPOL([[[0,riser+hHandRail],[0,riser+shHandRail],[tread/2,riser+hHandRail],[tread/2,riser+shHandRail],\n",
    "               [dy,dz+riser+hHandRail],[dy,dz+riser+shHandRail],[dy-tread/2,dz+riser+hHandRail],[dy-tread/2,dz+riser+shHandRail]],\n",
    "               [[1,2,4,3],[4,3,7,8],[5,6,7,8]],1])\n",
    "\n",
    "    return PROD([QUOTE([xHandRail]), handRail2D])\n",
    "\n",
    "verHR = handRail(0.8,0.05,0.1,0.2,0.25,5,4)\n",
    "#VIEW(verHR)"
   ]
  },
  {
   "cell_type": "markdown",
   "metadata": {},
   "source": [
    "Definisco una funzione che dati dx,dy e dz mi restituisce una gradinata munita di doppio corrimano"
   ]
  },
  {
   "cell_type": "code",
   "execution_count": 467,
   "metadata": {
    "collapsed": false
   },
   "outputs": [],
   "source": [
    "\"\"\"\n",
    "Funzione per la realizzazione di una scalinata adattata con due corrimano\n",
    "\"\"\"\n",
    "def adaptedStairsWithHandRail(dx,dy,dz):\n",
    "    stepDimensions = getStepDimensions(dx,dy,dz)\n",
    "    \n",
    "    riser = stepDimensions[0]\n",
    "    tread = stepDimensions[1]\n",
    "    nSteps = stepDimensions[2]\n",
    "    \n",
    "    hr = handRail(0.8,0.05,0.1,riser,tread,dy,dz)\n",
    "    \n",
    "    s = STRUCT([adaptedStairs(dx,dy,dz),hr,T(1)(dx-0.1),hr])\n",
    "    return s\n",
    "\n",
    "#VIEW(adaptedStairsWithHandRail(4.0,5.0,4.0))\n",
    "    \n"
   ]
  },
  {
   "cell_type": "markdown",
   "metadata": {},
   "source": [
    "Definisco la funzione ggpl_concrete_stairs(dx,dy,dz) che riproduce il modello scelto"
   ]
  },
  {
   "cell_type": "code",
   "execution_count": 468,
   "metadata": {
    "collapsed": false
   },
   "outputs": [],
   "source": [
    "\"\"\"\n",
    "Funzione di riferimento per il workshop\n",
    "\"\"\"\n",
    "def ggpl_concrete_stairs(dx,dy,dz):\n",
    "\n",
    "    x1 = dx/5\n",
    "    y1 = dy/5\n",
    "    z1 = dz/5\n",
    "\n",
    "    stepDimensions1 = getStepDimensions(x1,y1,z1)\n",
    "    \n",
    "    riser1 = stepDimensions1[0]\n",
    "    tread1 = stepDimensions1[1]\n",
    "    nSteps1 = stepDimensions1[2]\n",
    "\n",
    "    yLanding = 1.2\n",
    "\n",
    "    myStairs = adaptedStairsWithHandRail(x1,y1,z1)\n",
    "    myStairs = STRUCT ([myStairs,T([2,3])([y1,z1-riser1]),CUBOID([x1,yLanding,riser1])])\n",
    "\n",
    "    #VIEW(myStairs)\n",
    "\n",
    "    x2 = x1\n",
    "    y2 = y1*4\n",
    "    z2 = z1*4\n",
    "\n",
    "    myStairs = STRUCT ([myStairs,T([2,3])([y1+yLanding-tread1,z1]),adaptedStairsWithHandRail(x2,y2,z2),T([2,3])([y2,z2-riser1]),CUBOID([x1,yLanding,riser1])])\n",
    "\n",
    "    #VIEW(myStairs)\n",
    "\n",
    "    xWall = 0.2\n",
    "    zWall = 1.4\n",
    "\n",
    "    wall2D = MKPOL([[[0,0],[0,z1+zWall],[y1+yLanding,z1+zWall],[y1+yLanding,0],[y1+yLanding+y2-tread1,0]\n",
    "                ,[y1+yLanding+y2-tread1,z1+z2+zWall],[y1+2*yLanding+y2-tread1,0],[y1+2*yLanding+y2-tread1,z1+z2+zWall]],\n",
    "                [[1,2,3,4],[3,4,5,6],[5,6,7,8]],1])\n",
    "    wall = PROD([QUOTE([xWall]),wall2D])\n",
    "    \n",
    "    finalStructure = STRUCT([myStairs,T(1)(-xWall),wall,T(1)(x2+xWall),wall])\n",
    "    #VIEW(finalStructure)\n",
    "    \n",
    "    return finalStructure\n",
    "    \n",
    "    "
   ]
  },
  {
   "cell_type": "markdown",
   "metadata": {},
   "source": [
    "Testo la funzione ggpl_concrete_stairs(dx,dy,dz)"
   ]
  },
  {
   "cell_type": "code",
   "execution_count": 469,
   "metadata": {
    "collapsed": false
   },
   "outputs": [
    {
     "ename": "SyntaxError",
     "evalue": "'return' outside function (<ipython-input-469-2e90bba0c565>, line 14)",
     "output_type": "error",
     "traceback": [
      "\u001b[0;36m  File \u001b[0;32m\"<ipython-input-469-2e90bba0c565>\"\u001b[0;36m, line \u001b[0;32m14\u001b[0m\n\u001b[0;31m    return ggpl_concrete_stairs(dxDefault,dyDefault,dzDefault)\u001b[0m\n\u001b[0;31mSyntaxError\u001b[0m\u001b[0;31m:\u001b[0m 'return' outside function\n"
     ]
    }
   ],
   "source": [
    "dxDefault = 15.0\n",
    "dyDefault = 5.0\n",
    "dzDefault = 4.0\n",
    "\n",
    "#test scalinata stretta\n",
    "VIEW(ggpl_concrete_stairs(2.0,3.0,3.0))\n",
    "\n",
    "#test scalinata lunga\n",
    "VIEW(ggpl_concrete_stairs(5.0,20.0,20.0))\n",
    "\n",
    "#test scalinata MODELLO\n",
    "VIEW(ggpl_concrete_stairs(dxDefault,dyDefault,dzDefault))"
   ]
  }
 ],
 "metadata": {
  "kernelspec": {
   "display_name": "Python 2",
   "language": "python",
   "name": "python2"
  },
  "language_info": {
   "codemirror_mode": {
    "name": "ipython",
    "version": 2
   },
   "file_extension": ".py",
   "mimetype": "text/x-python",
   "name": "python",
   "nbconvert_exporter": "python",
   "pygments_lexer": "ipython2",
   "version": "2.7.12"
  }
 },
 "nbformat": 4,
 "nbformat_minor": 1
}
