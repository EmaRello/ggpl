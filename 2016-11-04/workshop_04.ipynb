{
 "cells": [
  {
   "cell_type": "markdown",
   "metadata": {},
   "source": [
    "# Realizzazione di una struttura rinforzata per il tetto\n",
    "\n",
    "### RIPRODUZIONE DI UN MODELLO:\n",
    "\n",
    "<img src=\"files/roof_model.jpg\">\n",
    "\n",
    "#### LINK: https://conceptdraw.com/a333c4/p1/preview/640/pict--landscape-design-garden-hotel-site-plan.png--diagram-flowchart-example.png\n",
    "\n",
    "#### RIPRODUZIONE:\n",
    "\n",
    "<img src=\"files/output_model.jpg\"><img src=\"files/output_model2.jpg\">\n",
    "\n",
    "### UTILIZZO DELLA MEDESIMA FUNZIONE  PER LA RIPRODUZIONE DI TETTI E PINNACOLI DI NOTRE DAME DI PARIGI(approssimazione):\n",
    "\n",
    "<img src=\"files/ND_real.jpg\"><img src=\"files/ND_model.jpg\">\n",
    "\n",
    "#### LINK1: https://i.ytimg.com/vi/hFQt2Ajr7eQ/maxresdefault.jpg\n",
    "\n",
    "#### LINK2: http://img10.deviantart.net/81a0/i/2011/038/2/9/notre_dame_top_view__by_hatredai-d390bdt.jpg\n",
    "\n",
    "#### RIPRODUZIONE:\n",
    "\n",
    "<img src=\"files/output_model3.jpg\"><img src=\"files/output_model4.jpg\"><img src=\"files/output_model5.jpg\">"
   ]
  },
  {
   "cell_type": "markdown",
   "metadata": {},
   "source": [
    "Importo le librerie necessarie"
   ]
  },
  {
   "cell_type": "code",
   "execution_count": 1,
   "metadata": {
    "collapsed": false
   },
   "outputs": [
    {
     "name": "stdout",
     "output_type": "stream",
     "text": [
      "Evaluating fenvs.py..\n",
      "...fenvs.py imported in 0.00545579815838 seconds\n"
     ]
    }
   ],
   "source": [
    "from pyplasm import *\n",
    "from math import *"
   ]
  },
  {
   "cell_type": "markdown",
   "metadata": {},
   "source": [
    "Definisco una funzione che data una lista di punti ne elimina gli errori di approssimazione"
   ]
  },
  {
   "cell_type": "code",
   "execution_count": 2,
   "metadata": {
    "collapsed": true
   },
   "outputs": [],
   "source": [
    "def noError (number):\n",
    "    if number%0.0001 == 0.0:\n",
    "        return number\n",
    "    tmp = number*10000\n",
    "    if tmp%1 >= .9:\n",
    "        tmp = ceil(tmp)\n",
    "    else:\n",
    "        tmp = floor(tmp)\n",
    "    return tmp/10000"
   ]
  },
  {
   "cell_type": "markdown",
   "metadata": {},
   "source": [
    "Definisco una funzione che, dati un punto ed una lista di punti, verifica la presenza del punto nella lista.\n",
    "Se il punto è presente mi restituisce l'indice del punto, altrimenti restituisce \"-1\""
   ]
  },
  {
   "cell_type": "code",
   "execution_count": 3,
   "metadata": {
    "collapsed": true
   },
   "outputs": [],
   "source": [
    "def pointExists (point, pointsList):\n",
    "    i = 0\n",
    "    for p in pointsList:\n",
    "        if abs(p[0] - point[0]) < 0.0001 and abs(p[1] - point[1]) < 0.0001 and abs(p[2] - point[2]) < 0.0001:\n",
    "            return i\n",
    "        i += 1\n",
    "    return -1"
   ]
  },
  {
   "cell_type": "markdown",
   "metadata": {},
   "source": [
    "Definisco una funzione che, data una lista di punti ed una lista di celle (caratteristiche di un tetto SOLIDO e PIENO), mi restituisce la relativa struttura rinforzata.\n",
    "l'algoritmo consiste nel:\n",
    "- realizzare un solido pieno a partire dai punti e dalle celle passati come parametri;\n",
    "- estrapolare da questo solido tutte le celle piane grazie alla funzione SKEL_2;\n",
    "- estrapolare tutti i punti (ridondanti) e tutte le celle utilizzando la funzione UKPOL;\n",
    "- per ciascuna cella ne viene creata una nuova comprendente gli stessi punti più le proiezioni sul piano XY di tutti i punti \"sopraelevati\". Durante questa procedura vengono eliminate le ridondanze di punti e le possibili approssimazioni introdotte dal sistema (vedi funzione \"noError\");\n",
    "- una volta ottenute due nuove liste (ottimizzate) di punti e celle, queste vengono utilizzate per creare un nuovo solido (che stavolta conterrà informazioni in più sui punti da rinforzare)\n",
    "- si estrapola infine la struttura da questo nuovo solido utilizzando SKEL_1 e sucessivamente viene irrobustita con OFFSET\n",
    "\n",
    "Si noti che la mia funzione prende come parametro anche la lista delle dimensioni utilizzati da OFFSET per permettere di realizzare strutture rinforzate in diverse scale (es. le travi del tetto-modello non sono come quelle di Notre Dame)\n",
    "\n",
    "Ho commentato dei \"print\" di prova utili per analizzare le nuove liste di punti e celle realizzate\n"
   ]
  },
  {
   "cell_type": "code",
   "execution_count": 4,
   "metadata": {
    "collapsed": true
   },
   "outputs": [],
   "source": [
    "def ggpl_concrete_roof_builder (points, cells, offset):\n",
    "    fullRoof = MKPOL([points, cells, 1])\n",
    "    sk2 = SKEL_2(fullRoof)\n",
    "    uk = UKPOL(sk2)\n",
    "    uk_0 = uk[0]\n",
    "\n",
    "    newPoints = []\n",
    "    newCells = []\n",
    "    for cell in uk[1]:\n",
    "        tmp = []\n",
    "        for index in cell:\n",
    "            point = uk[0][index-1]\n",
    "            point[0] = noError(point[0])\n",
    "            point[1] = noError(point[1])\n",
    "            point[2] = noError(point[2])\n",
    "            i = pointExists(point, newPoints)\n",
    "            #print i \n",
    "            if i > -1:\n",
    "                tmp.append(i+1)\n",
    "            else:\n",
    "                newPoints.append(point)\n",
    "                tmp.append(len(newPoints))\n",
    "            if abs(point[2]) > 0.0001:\n",
    "                newP = [point[0],point[1],0]\n",
    "                j = pointExists(newP, newPoints)\n",
    "                if j > -1:\n",
    "                    tmp.append(j+1)\n",
    "                else:\n",
    "                    newPoints.append(newP)\n",
    "                    tmp.append(len(newPoints))\n",
    "        newCells.append(tmp)\n",
    "\n",
    "    #print newPoints\n",
    "    #print newCells\n",
    "    new = MKPOL([newPoints, newCells, 1])\n",
    "    sk = SKEL_1(new)\n",
    "    roof = OFFSET(offset)(sk)\n",
    "    return roof\n"
   ]
  },
  {
   "cell_type": "markdown",
   "metadata": {},
   "source": [
    "Testo la funzione (tetto base, tetto a \"L\", tetto a \"L\" modificato)"
   ]
  },
  {
   "cell_type": "code",
   "execution_count": 5,
   "metadata": {
    "collapsed": false
   },
   "outputs": [],
   "source": [
    "points = [[0,0,0],[2,0,0],[2,4,0],[0,4,0],[1,1,1],[1,3,1]]\n",
    "cells = [[1,2,3,4,5,6]]\n",
    "#VIEW(ggpl_concrete_roof_builder(points, cells,[.1,.1,.2]))\n",
    "\n",
    "points = [[0,0,0],[2,0,0],[1,1,2],[0,6,0],[2,4,0],[6,4,0],[6,6,0],[1,5,2],[5,5,2]]\n",
    "cells =[[1,2,3,4,5,8],[4,5,6,7,8,9]]\n",
    "#VIEW(ggpl_concrete_roof_builder(points, cells,[.1,.1,.2]))\n",
    "\n",
    "points = [[0,0,0],[2,0,0],[1,1,2],[0,6,0],[2,4,0],[6,4,0],[6,6,0],[1,5,2],[5,5,4],[1,5,4]]\n",
    "cells =[[1,2,3,4,5,8],[4,5,6,7,10,9]]\n",
    "#VIEW(ggpl_concrete_roof_builder(points, cells,[.1,.1,.2]))"
   ]
  },
  {
   "cell_type": "markdown",
   "metadata": {},
   "source": [
    "Utilizzo la funzione per riprodurre il modello del tetto (costruisco due strutture indipendenti e ne traslo una verso l'alto)"
   ]
  },
  {
   "cell_type": "code",
   "execution_count": 6,
   "metadata": {
    "collapsed": false
   },
   "outputs": [
    {
     "data": {
      "text/plain": [
       "<pyplasm.xgepy.Hpc; proxy of <Swig Object of type 'std::shared_ptr< Hpc > *' at 0x000000000714D1B0> >"
      ]
     },
     "execution_count": 6,
     "metadata": {},
     "output_type": "execute_result"
    }
   ],
   "source": [
    "h0 = 3\n",
    "h1 = 3\n",
    "h2 = 2*h1\n",
    "points = [[4,0,0],[28,0,0],[28,16,0],[4,16,0],[12,8,h2],[20,8,h2],\n",
    "          [0,4,0],[4,4,0],[0,12,0],[4,12,0],[4,8,h1],[8,8,h1],\n",
    "          [11,16,0],[11,22,0],[21,22,0],[21,16,0],[16,12,h1],[16,18,h1]]\n",
    "cells =[[1,2,3,4,5,6],[7,8,9,10,11,12],[13,14,15,16,17,18]]\n",
    "p = [[28,4,0],[28,12,0],[32,12,0],[32,4,0],[28,8,h0]]\n",
    "c = [[1,2,3,4,5]]\n",
    "        \n",
    "VIEW(STRUCT([ggpl_concrete_roof_builder(p,c,[.1,.1,.2]), T(3)(6), ggpl_concrete_roof_builder(points,cells,[.1,.1,.2])]))"
   ]
  },
  {
   "cell_type": "markdown",
   "metadata": {},
   "source": [
    "### Notre Dame roof\n",
    "\n",
    "Utilizzo la funzione per riprodurre un tetto ottagonale\n",
    "\n",
    "<img src=\"files/octagon.jpg\" width=\"300\">"
   ]
  },
  {
   "cell_type": "code",
   "execution_count": 7,
   "metadata": {
    "collapsed": false
   },
   "outputs": [],
   "source": [
    "l = 5\n",
    "t = (l/2)*sqrt(2)\n",
    "h = 10*l\n",
    "pt = [[l,0,0], [t, -t,0],[0,-l,0],[-t, -t,0],[-l,0,0], [-t, t,0], [0,l,0], [t, t,0], [0,0,h]]\n",
    "for p in pt:\n",
    "    p[0] += 115\n",
    "    p[1] += 35\n",
    "    \n",
    "cl = [[1,2,3,4,5,6,7,8,9]]\n",
    "pinnacleRoof = ggpl_concrete_roof_builder(pt,cl,[1,1,2])"
   ]
  },
  {
   "cell_type": "markdown",
   "metadata": {},
   "source": [
    "Con gli stessi punti di base riproduco una torre ottagonale"
   ]
  },
  {
   "cell_type": "code",
   "execution_count": 8,
   "metadata": {
    "collapsed": false
   },
   "outputs": [],
   "source": [
    "pt2 = [[l,0], [t, -t],[0,-l],[-t, -t],[-l,0], [-t, t], [0,l], [t, t]]\n",
    "for p in pt2:\n",
    "    p[0] += 115\n",
    "    p[1] += 35\n",
    "\n",
    "tower_2d = MKPOL([pt2,[[1,2,3,4,5,6,7,8]],1])\n",
    "hTower = 10\n",
    "tower_3d =  OFFSET([1,1,2])(SKEL_1(PROD([tower_2d,QUOTE([hTower])])))\n"
   ]
  },
  {
   "cell_type": "markdown",
   "metadata": {},
   "source": [
    "Riproduco la struttura delle mura principali ed una torre quadrata"
   ]
  },
  {
   "cell_type": "code",
   "execution_count": 9,
   "metadata": {
    "collapsed": false
   },
   "outputs": [],
   "source": [
    "hWalls = 50\n",
    "structureNDcentral = OFFSET([1,1,2])(SKEL_1(MKPOL([[[0,30,0],[0,30,hWalls],[0,40,0],[0,40,hWalls],\n",
    "      [110,0,0],[110,0,hWalls],[120,0,0],[120,0,50],\n",
    "      [110,70,0],[110,70,hWalls],[120,70,0],[120,70,hWalls],\n",
    "      [180,30,0],[180,30,hWalls],[180,40,0],[180,40,hWalls],\n",
    "      [110,30,0],[110,30,hWalls],[120,30,0],[120,30,hWalls],\n",
    "      [110,40,0],[110,40,hWalls],[120,40,0],[120,40,hWalls],\n",
    "      ],\n",
    "      [[17,18,19,20,21,22,23,24],\n",
    "      [1,2,3,4,17,18,21,22],\n",
    "      [5,6,7,8,17,18,19,20],\n",
    "      [13,14,15,16,19,20,23,24],\n",
    "      [21,22,23,24,9,10,11,12]],1])))\n",
    "\n",
    "normalTower = OFFSET([1,1,2])(SKEL_1(CUBOID([20,20,90])))\n"
   ]
  },
  {
   "cell_type": "markdown",
   "metadata": {},
   "source": [
    "Assemblo la struttura finale aggiungendo nell'ordine:\n",
    "- mura\n",
    "- torre ottagonale\n",
    "- pinnacolo (tetto ottagonale)\n",
    "- torri\n",
    "- tetti ottagonali bassi\n",
    "- tetti restanti"
   ]
  },
  {
   "cell_type": "code",
   "execution_count": 10,
   "metadata": {
    "collapsed": false
   },
   "outputs": [
    {
     "data": {
      "text/plain": [
       "<pyplasm.xgepy.Hpc; proxy of <Swig Object of type 'std::shared_ptr< Hpc > *' at 0x0000000007167600> >"
      ]
     },
     "execution_count": 10,
     "metadata": {},
     "output_type": "execute_result"
    }
   ],
   "source": [
    "structureFinal = STRUCT([structureNDcentral,T(3)(hWalls),tower_3d,T(3)(hTower),pinnacleRoof])\n",
    "\n",
    "structureFinal = STRUCT([structureFinal,T(2)(10),normalTower,T(2)(30),normalTower])\n",
    "\n",
    "l = 8\n",
    "t = (l/2)*sqrt(2)\n",
    "h = l\n",
    "pt = [[l,0,0], [t, -t,0],[0,-l,0],[-t, -t,0],[-l,0,0], [-t, t,0], [0,l,0], [t, t,0], [0,0,h]]\n",
    "for p in pt:\n",
    "    p[0] += 10\n",
    "    \n",
    "cl = [[1,2,3,4,5,6,7,8,9]]\n",
    "pinnacleShortRoof = ggpl_concrete_roof_builder(pt,cl,[1,1,2])\n",
    "\n",
    "structureFinal = STRUCT([structureFinal,T([2,3])([20,90]),pinnacleShortRoof,T([2])([30]),pinnacleShortRoof])\n",
    "\n",
    "roofWest = ggpl_concrete_roof_builder([[20,30,0],[20,40,0],[110,40,0],[110,30,0],[20,35,10],[110,35,10]],[[1,2,3,4,5,6]],[1,1,2])\n",
    "roofEast = ggpl_concrete_roof_builder([[120,30,0],[120,40,0],[180,40,0],[180,30,0],[170,35,10],[120,35,10]],[[1,2,3,4,5,6]],[1,1,2])\n",
    "roofSouth = ggpl_concrete_roof_builder([[110,0,0],[120,0,0],[110,30,0],[120,30,0],[115,0,10],[115,30,10]],[[1,2,3,4,5,6]],[1,1,2])\n",
    "roofNorth = ggpl_concrete_roof_builder([[110,70,0],[120,70,0],[110,40,0],[120,40,0],[115,70,10],[115,40,10]],[[1,2,3,4,5,6]],[1,1,2])\n",
    "\n",
    "structureFinal = STRUCT([structureFinal,T(3)(hWalls),roofWest,roofEast,roofSouth,roofNorth])\n",
    "\n",
    "VIEW(structureFinal)"
   ]
  }
 ],
 "metadata": {
  "kernelspec": {
   "display_name": "Python 2",
   "language": "python",
   "name": "python2"
  },
  "language_info": {
   "codemirror_mode": {
    "name": "ipython",
    "version": 2
   },
   "file_extension": ".py",
   "mimetype": "text/x-python",
   "name": "python",
   "nbconvert_exporter": "python",
   "pygments_lexer": "ipython2",
   "version": "2.7.12"
  }
 },
 "nbformat": 4,
 "nbformat_minor": 1
}
